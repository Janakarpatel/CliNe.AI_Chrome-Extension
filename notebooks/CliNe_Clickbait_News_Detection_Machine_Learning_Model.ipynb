{
  "cells": [
    {
      "cell_type": "markdown",
      "source": [
        "#Importing the Required Library.\n",
        "Pandas, Numpy, Tensorflow, Sklearn, Keras, Tokenizer and etc."
      ],
      "metadata": {
        "id": "cdqfdjWiDA5L"
      }
    },
    {
      "cell_type": "code",
      "execution_count": null,
      "metadata": {
        "id": "t-ldxco44BwY"
      },
      "outputs": [],
      "source": [
        "import pandas as pd\n",
        "import numpy as np\n",
        "import tensorflow as tf\n",
        "\n",
        "from sklearn.model_selection import train_test_split\n",
        "\n",
        "\n",
        "import keras\n",
        "from keras.preprocessing import text,sequence\n",
        "from keras.models import Sequential\n",
        "from keras.layers import Dense,Embedding,LSTM,Dropout\n",
        "from tensorflow.keras.models import Sequential\n",
        "from tensorflow.keras.layers import Embedding, LSTM, Dense, Dropout, GlobalMaxPooling1D\n",
        "from tensorflow.keras.preprocessing.text import Tokenizer\n",
        "from tensorflow.keras.preprocessing.sequence import pad_sequences\n",
        "from tensorflow.keras.callbacks import ModelCheckpoint, EarlyStopping"
      ]
    },
    {
      "cell_type": "markdown",
      "source": [
        "# Loading the dataset.\n",
        "Dataset taken from Kaggle"
      ],
      "metadata": {
        "id": "OnP74rjkED8j"
      }
    },
    {
      "cell_type": "code",
      "execution_count": null,
      "metadata": {
        "id": "LVxo8-dg4IvW"
      },
      "outputs": [],
      "source": [
        "data = pd.read_csv('/content/drive/MyDrive/clickbait_data.csv')"
      ]
    },
    {
      "cell_type": "markdown",
      "source": [
        "# Split dataset into training and testing sets using train and test split."
      ],
      "metadata": {
        "id": "q9eumDUSEQzY"
      }
    },
    {
      "cell_type": "code",
      "execution_count": null,
      "metadata": {
        "id": "vUDDR9CR4gFc"
      },
      "outputs": [],
      "source": [
        "train_data, test_data = train_test_split(data, test_size=0.2, random_state=42)"
      ]
    },
    {
      "cell_type": "markdown",
      "source": [
        "# Tokenize the text data for computation.\n",
        "To convert text in numerical sequence."
      ],
      "metadata": {
        "id": "E4Y2ggMrEbBu"
      }
    },
    {
      "cell_type": "code",
      "execution_count": null,
      "metadata": {
        "id": "K_u5eq784ixV"
      },
      "outputs": [],
      "source": [
        "tokenizer = Tokenizer(num_words=5000)\n",
        "tokenizer.fit_on_texts(train_data['headline'])"
      ]
    },
    {
      "cell_type": "markdown",
      "source": [
        "# Convert text data to sequences"
      ],
      "metadata": {
        "id": "shHsrcL9E4KV"
      }
    },
    {
      "cell_type": "code",
      "execution_count": null,
      "metadata": {
        "id": "DTGbPAll4lVg"
      },
      "outputs": [],
      "source": [
        "train_sequences = tokenizer.texts_to_sequences(train_data['headline'])\n",
        "test_sequences = tokenizer.texts_to_sequences(test_data['headline'])"
      ]
    },
    {
      "cell_type": "markdown",
      "source": [
        "# Pad the sequences to a fixed length \n",
        "maximum length is 500"
      ],
      "metadata": {
        "id": "qUCBNzfOFrQq"
      }
    },
    {
      "cell_type": "code",
      "execution_count": null,
      "metadata": {
        "id": "U7AxFXlL4nwz"
      },
      "outputs": [],
      "source": [
        "max_length = 500\n",
        "train_padded_sequences = pad_sequences(train_sequences, maxlen=max_length, padding='post')\n",
        "test_padded_sequences = pad_sequences(test_sequences, maxlen=max_length, padding='post')"
      ]
    },
    {
      "cell_type": "markdown",
      "source": [
        "# Load pre-trained word embeddings.\n",
        "We use GloVe's 6 Billion tokens with 100 dimensions. It is faster and efficient for our problem statement. "
      ],
      "metadata": {
        "id": "zqRJWAGbF1YT"
      }
    },
    {
      "cell_type": "code",
      "execution_count": null,
      "metadata": {
        "id": "wa1seekQ4qZb"
      },
      "outputs": [],
      "source": [
        "embedding_dim = 100\n",
        "embeddings_index = {}\n",
        "with open('/content/drive/MyDrive/glove.6B.100d.txt', encoding='utf8') as f:\n",
        "    for line in f:\n",
        "        values = line.split()\n",
        "        word = values[0]\n",
        "        coefs = np.asarray(values[1:], dtype='float32')\n",
        "        embeddings_index[word] = coefs"
      ]
    },
    {
      "cell_type": "markdown",
      "source": [
        "# Create embedding matrix using GloVe Word Embeddings."
      ],
      "metadata": {
        "id": "Wg0mLinTGb7t"
      }
    },
    {
      "cell_type": "code",
      "execution_count": null,
      "metadata": {
        "id": "Z1amqYwu4stj"
      },
      "outputs": [],
      "source": [
        "num_words = min(5000, len(tokenizer.word_index) + 1)\n",
        "embedding_matrix = np.zeros((num_words, embedding_dim))\n",
        "for word, i in tokenizer.word_index.items():\n",
        "    if i >= num_words:\n",
        "        break\n",
        "    embedding_vector = embeddings_index.get(word)\n",
        "    if embedding_vector is not None:\n",
        "        embedding_matrix[i] = embedding_vector"
      ]
    },
    {
      "cell_type": "markdown",
      "source": [
        "Intialize the parameters for LSTM model."
      ],
      "metadata": {
        "id": "iD1P12lEGgcH"
      }
    },
    {
      "cell_type": "code",
      "execution_count": null,
      "metadata": {
        "id": "1OnFHl748hO6"
      },
      "outputs": [],
      "source": [
        "vocab_size = 5000\n",
        "maxlen = 500\n",
        "embedding_size = 32"
      ]
    },
    {
      "cell_type": "markdown",
      "source": [
        "#Define the Model Structure"
      ],
      "metadata": {
        "id": "HqMIJcTiG5fv"
      }
    },
    {
      "cell_type": "code",
      "execution_count": null,
      "metadata": {
        "colab": {
          "base_uri": "https://localhost:8080/"
        },
        "id": "G0dn50Zd6QUC",
        "outputId": "0b16c3d6-c779-4963-9063-3eceb878ecee"
      },
      "outputs": [
        {
          "output_type": "stream",
          "name": "stdout",
          "text": [
            "Model: \"sequential_1\"\n",
            "_________________________________________________________________\n",
            " Layer (type)                Output Shape              Param #   \n",
            "=================================================================\n",
            " embedding_1 (Embedding)     (None, 500, 100)          500000    \n",
            "                                                                 \n",
            " lstm_1 (LSTM)               (None, 500, 32)           17024     \n",
            "                                                                 \n",
            " global_max_pooling1d_1 (Glo  (None, 32)               0         \n",
            " balMaxPooling1D)                                                \n",
            "                                                                 \n",
            " dropout_1 (Dropout)         (None, 32)                0         \n",
            "                                                                 \n",
            " dense_1 (Dense)             (None, 1)                 33        \n",
            "                                                                 \n",
            "=================================================================\n",
            "Total params: 517,057\n",
            "Trainable params: 17,057\n",
            "Non-trainable params: 500,000\n",
            "_________________________________________________________________\n"
          ]
        }
      ],
      "source": [
        "model = Sequential()\n",
        "model.add(Embedding(input_dim=num_words, output_dim=embedding_dim, weights=[embedding_matrix], input_length=max_length, trainable=False))\n",
        "model.add(LSTM(32, return_sequences=True))\n",
        "model.add(GlobalMaxPooling1D())\n",
        "model.add(Dropout(0.2))\n",
        "model.add(Dense(1, activation='sigmoid'))\n",
        "model.summary()"
      ]
    },
    {
      "cell_type": "markdown",
      "source": [
        "Callbacks use for prevent overfitting."
      ],
      "metadata": {
        "id": "5WXvtKq2HF5A"
      }
    },
    {
      "cell_type": "code",
      "execution_count": null,
      "metadata": {
        "id": "2c_W-Gci6UrF"
      },
      "outputs": [],
      "source": [
        "callbacks = [\n",
        "    EarlyStopping(\n",
        "        monitor='val_accuracy',\n",
        "        min_delta=1e-4,\n",
        "        patience=3,\n",
        "        verbose=1\n",
        "    ),\n",
        "    ModelCheckpoint(\n",
        "        filepath='weights.h5',\n",
        "        monitor='val_accuracy', \n",
        "        mode='max', \n",
        "        save_best_only=True,\n",
        "        save_weights_only=True,\n",
        "        verbose=1\n",
        "    )\n",
        "]\n"
      ]
    },
    {
      "cell_type": "markdown",
      "source": [
        "# Compile the model"
      ],
      "metadata": {
        "id": "rmMs8ZMZHUqs"
      }
    },
    {
      "cell_type": "code",
      "execution_count": null,
      "metadata": {
        "id": "qiCiTAky6YR_"
      },
      "outputs": [],
      "source": [
        "model.compile(loss='binary_crossentropy', optimizer=tf.keras.optimizers.Adam(learning_rate=0.001), metrics=['accuracy'])"
      ]
    },
    {
      "cell_type": "markdown",
      "source": [
        "# Train the model"
      ],
      "metadata": {
        "id": "7PiUQkBgHZlr"
      }
    },
    {
      "cell_type": "code",
      "execution_count": null,
      "metadata": {
        "colab": {
          "base_uri": "https://localhost:8080/"
        },
        "id": "oKO_9Y2f6kGp",
        "outputId": "c32ca822-f575-47c6-b761-48593ab17996"
      },
      "outputs": [
        {
          "output_type": "stream",
          "name": "stdout",
          "text": [
            "Epoch 1/35\n",
            "39/40 [============================>.] - ETA: 0s - loss: 0.5043 - accuracy: 0.7941\n",
            "Epoch 1: val_accuracy improved from -inf to 0.91562, saving model to weights.h5\n",
            "40/40 [==============================] - 4s 47ms/step - loss: 0.4992 - accuracy: 0.7975 - val_loss: 0.2955 - val_accuracy: 0.9156\n",
            "Epoch 2/35\n",
            "39/40 [============================>.] - ETA: 0s - loss: 0.2211 - accuracy: 0.9327\n",
            "Epoch 2: val_accuracy improved from 0.91562 to 0.94219, saving model to weights.h5\n",
            "40/40 [==============================] - 1s 32ms/step - loss: 0.2192 - accuracy: 0.9334 - val_loss: 0.1740 - val_accuracy: 0.9422\n",
            "Epoch 3/35\n",
            "39/40 [============================>.] - ETA: 0s - loss: 0.1507 - accuracy: 0.9514\n",
            "Epoch 3: val_accuracy improved from 0.94219 to 0.94824, saving model to weights.h5\n",
            "40/40 [==============================] - 1s 32ms/step - loss: 0.1497 - accuracy: 0.9518 - val_loss: 0.1430 - val_accuracy: 0.9482\n",
            "Epoch 4/35\n",
            "39/40 [============================>.] - ETA: 0s - loss: 0.1286 - accuracy: 0.9580\n",
            "Epoch 4: val_accuracy improved from 0.94824 to 0.95410, saving model to weights.h5\n",
            "40/40 [==============================] - 1s 32ms/step - loss: 0.1283 - accuracy: 0.9582 - val_loss: 0.1294 - val_accuracy: 0.9541\n",
            "Epoch 5/35\n",
            "39/40 [============================>.] - ETA: 0s - loss: 0.1187 - accuracy: 0.9600\n",
            "Epoch 5: val_accuracy improved from 0.95410 to 0.95605, saving model to weights.h5\n",
            "40/40 [==============================] - 1s 33ms/step - loss: 0.1182 - accuracy: 0.9604 - val_loss: 0.1206 - val_accuracy: 0.9561\n",
            "Epoch 6/35\n",
            "39/40 [============================>.] - ETA: 0s - loss: 0.1082 - accuracy: 0.9647\n",
            "Epoch 6: val_accuracy improved from 0.95605 to 0.95820, saving model to weights.h5\n",
            "40/40 [==============================] - 1s 33ms/step - loss: 0.1080 - accuracy: 0.9648 - val_loss: 0.1163 - val_accuracy: 0.9582\n",
            "Epoch 7/35\n",
            "39/40 [============================>.] - ETA: 0s - loss: 0.1020 - accuracy: 0.9670\n",
            "Epoch 7: val_accuracy did not improve from 0.95820\n",
            "40/40 [==============================] - 1s 32ms/step - loss: 0.1015 - accuracy: 0.9671 - val_loss: 0.1145 - val_accuracy: 0.9576\n",
            "Epoch 8/35\n",
            "39/40 [============================>.] - ETA: 0s - loss: 0.0948 - accuracy: 0.9692\n",
            "Epoch 8: val_accuracy improved from 0.95820 to 0.96348, saving model to weights.h5\n",
            "40/40 [==============================] - 1s 33ms/step - loss: 0.0949 - accuracy: 0.9691 - val_loss: 0.1018 - val_accuracy: 0.9635\n",
            "Epoch 9/35\n",
            "39/40 [============================>.] - ETA: 0s - loss: 0.0876 - accuracy: 0.9707\n",
            "Epoch 9: val_accuracy improved from 0.96348 to 0.96387, saving model to weights.h5\n",
            "40/40 [==============================] - 1s 33ms/step - loss: 0.0875 - accuracy: 0.9707 - val_loss: 0.1023 - val_accuracy: 0.9639\n",
            "Epoch 10/35\n",
            "39/40 [============================>.] - ETA: 0s - loss: 0.0826 - accuracy: 0.9720\n",
            "Epoch 10: val_accuracy improved from 0.96387 to 0.96816, saving model to weights.h5\n",
            "40/40 [==============================] - 1s 33ms/step - loss: 0.0830 - accuracy: 0.9718 - val_loss: 0.0951 - val_accuracy: 0.9682\n",
            "Epoch 11/35\n",
            "39/40 [============================>.] - ETA: 0s - loss: 0.0785 - accuracy: 0.9741\n",
            "Epoch 11: val_accuracy did not improve from 0.96816\n",
            "40/40 [==============================] - 1s 32ms/step - loss: 0.0783 - accuracy: 0.9740 - val_loss: 0.0947 - val_accuracy: 0.9676\n",
            "Epoch 12/35\n",
            "39/40 [============================>.] - ETA: 0s - loss: 0.0739 - accuracy: 0.9749\n",
            "Epoch 12: val_accuracy improved from 0.96816 to 0.97031, saving model to weights.h5\n",
            "40/40 [==============================] - 1s 33ms/step - loss: 0.0738 - accuracy: 0.9750 - val_loss: 0.0915 - val_accuracy: 0.9703\n",
            "Epoch 13/35\n",
            "39/40 [============================>.] - ETA: 0s - loss: 0.0696 - accuracy: 0.9768\n",
            "Epoch 13: val_accuracy did not improve from 0.97031\n",
            "40/40 [==============================] - 1s 32ms/step - loss: 0.0690 - accuracy: 0.9771 - val_loss: 0.0917 - val_accuracy: 0.9691\n",
            "Epoch 14/35\n",
            "39/40 [============================>.] - ETA: 0s - loss: 0.0647 - accuracy: 0.9784\n",
            "Epoch 14: val_accuracy improved from 0.97031 to 0.97109, saving model to weights.h5\n",
            "40/40 [==============================] - 1s 32ms/step - loss: 0.0645 - accuracy: 0.9785 - val_loss: 0.0873 - val_accuracy: 0.9711\n",
            "Epoch 15/35\n",
            "39/40 [============================>.] - ETA: 0s - loss: 0.0647 - accuracy: 0.9786\n",
            "Epoch 15: val_accuracy did not improve from 0.97109\n",
            "40/40 [==============================] - 1s 32ms/step - loss: 0.0648 - accuracy: 0.9786 - val_loss: 0.0926 - val_accuracy: 0.9697\n",
            "Epoch 16/35\n",
            "39/40 [============================>.] - ETA: 0s - loss: 0.0636 - accuracy: 0.9810\n",
            "Epoch 16: val_accuracy improved from 0.97109 to 0.97168, saving model to weights.h5\n",
            "40/40 [==============================] - 1s 32ms/step - loss: 0.0638 - accuracy: 0.9809 - val_loss: 0.0942 - val_accuracy: 0.9717\n",
            "Epoch 17/35\n",
            "39/40 [============================>.] - ETA: 0s - loss: 0.0621 - accuracy: 0.9796\n",
            "Epoch 17: val_accuracy improved from 0.97168 to 0.97207, saving model to weights.h5\n",
            "40/40 [==============================] - 1s 33ms/step - loss: 0.0623 - accuracy: 0.9797 - val_loss: 0.0912 - val_accuracy: 0.9721\n",
            "Epoch 18/35\n",
            "39/40 [============================>.] - ETA: 0s - loss: 0.0527 - accuracy: 0.9831\n",
            "Epoch 18: val_accuracy did not improve from 0.97207\n",
            "40/40 [==============================] - 1s 32ms/step - loss: 0.0526 - accuracy: 0.9832 - val_loss: 0.0885 - val_accuracy: 0.9705\n",
            "Epoch 19/35\n",
            "39/40 [============================>.] - ETA: 0s - loss: 0.0487 - accuracy: 0.9851\n",
            "Epoch 19: val_accuracy did not improve from 0.97207\n",
            "40/40 [==============================] - 1s 32ms/step - loss: 0.0486 - accuracy: 0.9851 - val_loss: 0.0969 - val_accuracy: 0.9672\n",
            "Epoch 20/35\n",
            "39/40 [============================>.] - ETA: 0s - loss: 0.0489 - accuracy: 0.9848\n",
            "Epoch 20: val_accuracy did not improve from 0.97207\n",
            "40/40 [==============================] - 1s 32ms/step - loss: 0.0482 - accuracy: 0.9851 - val_loss: 0.0944 - val_accuracy: 0.9691\n",
            "Epoch 20: early stopping\n"
          ]
        }
      ],
      "source": [
        "history = model.fit(train_padded_sequences, train_data['clickbait'], epochs=35, batch_size=512, validation_split=0.2, callbacks=callbacks)"
      ]
    },
    {
      "cell_type": "markdown",
      "source": [
        "# Evaluate the model on the test set"
      ],
      "metadata": {
        "id": "cWQ1_28yHd9k"
      }
    },
    {
      "cell_type": "code",
      "execution_count": null,
      "metadata": {
        "colab": {
          "base_uri": "https://localhost:8080/"
        },
        "id": "f5nv4ueB6pUr",
        "outputId": "ac4da8b4-7736-4873-a49a-68b1be7e68e7"
      },
      "outputs": [
        {
          "output_type": "stream",
          "name": "stdout",
          "text": [
            "200/200 [==============================] - 2s 9ms/step - loss: 0.0931 - accuracy: 0.9702\n",
            "Test accuracy: 0.9701562523841858\n"
          ]
        }
      ],
      "source": [
        "test_loss, test_accuracy = model.evaluate(test_padded_sequences, test_data['clickbait'])\n",
        "print('Test accuracy:', test_accuracy)"
      ]
    },
    {
      "cell_type": "code",
      "execution_count": null,
      "metadata": {
        "colab": {
          "base_uri": "https://localhost:8080/"
        },
        "id": "TUdRaLWP7kOV",
        "outputId": "951267ba-93b7-4816-db00-8d2b61f67e2c"
      },
      "outputs": [
        {
          "output_type": "stream",
          "name": "stdout",
          "text": [
            "1/1 [==============================] - 0s 362ms/step\n",
            "Man breaks into opera at eatery after seeing pizza - Not Clickbait\n",
            "How A.I. and DNA Are Unlocking the Mysteries of Global Supply Chains,’ Prigozhin says. - Clickbait\n",
            "Shahid Kapoor and Kriti Sanon's new film poster leaves internet baffled - Not Clickbait\n",
            "Anupam Kher reacts after Anurag Basu makes dosa for him on Metro In Dino sets - Not Clickbait\n",
            "A Profit for Medco and a Loss for Tenet - Not Clickbait\n"
          ]
        }
      ],
      "source": [
        "test = [\"Man breaks into opera at eatery after seeing pizza\",\"How A.I. and DNA Are Unlocking the Mysteries of Global Supply Chains,’ Prigozhin says.\",\"Shahid Kapoor and Kriti Sanon's new film poster leaves internet baffled\",\"Anupam Kher reacts after Anurag Basu makes dosa for him on Metro In Dino sets\",\"A Profit for Medco and a Loss for Tenet\"]\n",
        "token_text = pad_sequences(tokenizer.texts_to_sequences(test), maxlen=max_length)\n",
        "preds = [round(i[0]) for i in model.predict(token_text)]\n",
        "for (text, pred) in zip(test, preds):\n",
        "    label = 'Clickbait' if pred == 1.0 else 'Not Clickbait'\n",
        "    print(\"{} - {}\".format(text, label))"
      ]
    },
    {
      "cell_type": "markdown",
      "source": [
        "#Plotting the Results for evaluting the model accuracy and efficiency."
      ],
      "metadata": {
        "id": "3nSpHbqeHk8y"
      }
    },
    {
      "cell_type": "code",
      "execution_count": null,
      "metadata": {
        "colab": {
          "base_uri": "https://localhost:8080/",
          "height": 927
        },
        "id": "URKb9t7IaZXz",
        "outputId": "d0f934cb-993d-4c38-8322-9520003a13dc"
      },
      "outputs": [
        {
          "output_type": "display_data",
          "data": {
            "text/plain": [
              "<Figure size 640x480 with 1 Axes>"
            ],
            "image/png": "[encoded data removed]"
          },
          "metadata": {}
        },
        {
          "output_type": "display_data",
          "data": {
            "text/plain": [
              "<Figure size 640x480 with 1 Axes>"
            ],
            "image/png": "[encoded data removed]"
          },
          "metadata": {}
        }
      ],
      "source": [
        "import matplotlib.pyplot as plt\n",
        "plt.plot(history.history['accuracy'])\n",
        "plt.plot(history.history['val_accuracy'])\n",
        "plt.title('model accuracy')\n",
        "plt.ylabel('accuracy')\n",
        "plt.xlabel('epoch')\n",
        "plt.legend(['train', 'test'], loc='upper left')\n",
        "plt.show()\n",
        "# summarize history for loss\n",
        "plt.plot(history.history['loss'])\n",
        "plt.plot(history.history['val_loss'])\n",
        "plt.title('model loss')\n",
        "plt.ylabel('loss')\n",
        "plt.xlabel('epoch')\n",
        "plt.legend(['train', 'test'], loc='upper left')\n",
        "plt.show()"
      ]
    },
    {
      "cell_type": "code",
      "execution_count": null,
      "metadata": {
        "id": "VFf-jBlacHz3"
      },
      "outputs": [],
      "source": [
        "model.load_weights('weights.h5')\n",
        "from tensorflow.keras.models import save_model\n",
        "save_model(model,'model8.h5')"
      ]
    },
    {
      "cell_type": "code",
      "execution_count": null,
      "metadata": {
        "id": "YIMAqhn8q0NR"
      },
      "outputs": [],
      "source": [
        "from tensorflow.keras.models import load_model\n",
        "mod = load_model('model8.h5',compile=False)\n",
        "mod.load_weights('weights.h5')"
      ]
    },
    {
      "cell_type": "code",
      "execution_count": null,
      "metadata": {
        "colab": {
          "base_uri": "https://localhost:8080/"
        },
        "id": "fluegNuAy0v6",
        "outputId": "225f2e8d-4e2e-405e-e2ca-0ff093124a9c"
      },
      "outputs": [
        {
          "name": "stdout",
          "output_type": "stream",
          "text": [
            "1/1 [==============================] - 1s 527ms/step\n",
            "Why Pope Francis Is the Star of A.I.-Generated Photos - Not Clickbait\n",
            "Thailand’s Unemployed Elephants Are Back Home, Huge and Hungry - Not Clickbait\n",
            "How A.I. and DNA Are Unlocking the Mysteries of Global Supply Chains,’ Prigozhin says. - Not Clickbait\n",
            "French Diplomacy Undercuts U.S. Efforts to Rein China In - Not Clickbait\n",
            "Family from Gujarat drowns while attempting illegal crossing over St. Lawrence river on Canada-U.S. border - Not Clickbait\n",
            "Why Pope Francis Is the Star of A.I.-Generated Photos - Not Clickbait\n"
          ]
        }
      ],
      "source": [
        "test = [\"Why Pope Francis Is the Star of A.I.-Generated Photos\",\"Thailand’s Unemployed Elephants Are Back Home, Huge and Hungry\",\"How A.I. and DNA Are Unlocking the Mysteries of Global Supply Chains,’ Prigozhin says.\",\"French Diplomacy Undercuts U.S. Efforts to Rein China In\",\"Family from Gujarat drowns while attempting illegal crossing over St. Lawrence river on Canada-U.S. border\",\"Why Pope Francis Is the Star of A.I.-Generated Photos\"]\n",
        "token_text = pad_sequences(tokenizer.texts_to_sequences(test), maxlen=max_length)\n",
        "preds = [round(i[0]) for i in mod.predict(token_text)]\n",
        "for (text, pred) in zip(test, preds):\n",
        "    label = 'Clickbait' if pred > 0.5 else 'Not Clickbait'\n",
        "    print(\"{} - {}\".format(text, label))"
      ]
    },
    {
      "cell_type": "markdown",
      "source": [
        "#Confusion Marix"
      ],
      "metadata": {
        "id": "LBYRFvTiHwpi"
      }
    },
    {
      "cell_type": "code",
      "execution_count": null,
      "metadata": {
        "colab": {
          "base_uri": "https://localhost:8080/",
          "height": 737
        },
        "id": "ood5bu08y3pV",
        "outputId": "e16b4f25-7a06-4af4-a377-f0c49e83070b"
      },
      "outputs": [
        {
          "name": "stdout",
          "output_type": "stream",
          "text": [
            "200/200 [==============================] - 1s 7ms/step\n"
          ]
        },
        {
          "data": {
            "text/plain": [
              "<Figure size 640x480 with 0 Axes>"
            ]
          },
          "metadata": {},
          "output_type": "display_data"
        },
        {
          "data": {
            "image/png": "[encoded data removed]",
            "text/plain": [
              "<Figure size 1200x800 with 1 Axes>"
            ]
          },
          "metadata": {},
          "output_type": "display_data"
        }
      ],
      "source": [
        "from sklearn.metrics import confusion_matrix\n",
        "from mlxtend.plotting import plot_confusion_matrix\n",
        "\n",
        "preds = [round(i[0]) for i in mod.predict(test_padded_sequences)]\n",
        "cm = confusion_matrix(test_data['clickbait'], preds)\n",
        "plt.figure()\n",
        "plot_confusion_matrix(cm, figsize=(12,8), hide_ticks=True, cmap=plt.cm.Blues)\n",
        "plt.xticks(range(2), ['Not clickbait', 'Clickbait'], fontsize=16)\n",
        "plt.yticks(range(2), ['Not clickbait', 'Clickbait'], fontsize=16)\n",
        "plt.show()"
      ]
    },
    {
      "cell_type": "markdown",
      "source": [
        "#Classification Report"
      ],
      "metadata": {
        "id": "z0t6zIUjH2OY"
      }
    },
    {
      "cell_type": "code",
      "execution_count": null,
      "metadata": {
        "colab": {
          "base_uri": "https://localhost:8080/"
        },
        "id": "HGo_qtl5jpjM",
        "outputId": "b004b5c8-0154-4380-a9df-b225442afe8a"
      },
      "outputs": [
        {
          "name": "stdout",
          "output_type": "stream",
          "text": [
            "200/200 [==============================] - 1s 6ms/step\n",
            "              precision    recall  f1-score   support\n",
            "\n",
            "           0       0.97      0.97      0.97      3127\n",
            "           1       0.97      0.97      0.97      3273\n",
            "\n",
            "    accuracy                           0.97      6400\n",
            "   macro avg       0.97      0.97      0.97      6400\n",
            "weighted avg       0.97      0.97      0.97      6400\n",
            "\n"
          ]
        }
      ],
      "source": [
        "from sklearn.metrics import classification_report\n",
        "\n",
        "y_true = test_data['clickbait']  # True labels of the test set\n",
        "y_pred_probs = mod.predict(test_padded_sequences)  # Predicted probabilities of the test set\n",
        "y_pred = (y_pred_probs > 0.5).astype(int)\n",
        "\n",
        "#classification report\n",
        "print(classification_report(y_true, y_pred))"
      ]
    },
    {
      "cell_type": "code",
      "execution_count": null,
      "metadata": {
        "id": "KF625PjSFjqE"
      },
      "outputs": [],
      "source": [
        "from google.colab import drive\n",
        "drive.mount('/content/drive')"
      ]
    },
    {
      "cell_type": "code",
      "execution_count": null,
      "metadata": {
        "id": "pkU_1A0rNH5V"
      },
      "outputs": [],
      "source": [
        "import pickle\n",
        "\n",
        "# Create a tokenizer and fit it to your data\n",
        "\n",
        "# Save the tokenizer as a pickle file\n",
        "with open('tokenizer.pickle', 'wb') as handle:\n",
        "    pickle.dump(tokenizer, handle, protocol=pickle.HIGHEST_PROTOCOL)"
      ]
    },
    {
      "cell_type": "code",
      "execution_count": null,
      "metadata": {
        "id": "utdtzUPTNIc8"
      },
      "outputs": [],
      "source": []
    }
  ],
  "metadata": {
    "accelerator": "GPU",
    "colab": {
      "provenance": []
    },
    "gpuClass": "standard",
    "kernelspec": {
      "display_name": "Python 3",
      "name": "python3"
    },
    "language_info": {
      "name": "python"
    }
  },
  "nbformat": 4,
  "nbformat_minor": 0
}